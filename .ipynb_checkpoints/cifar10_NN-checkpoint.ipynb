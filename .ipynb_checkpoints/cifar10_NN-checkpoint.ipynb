{
 "cells": [
  {
   "cell_type": "code",
   "execution_count": 424,
   "metadata": {},
   "outputs": [],
   "source": [
    "import numpy as np\n",
    "from keras.datasets import cifar10\n",
    "import matplotlib.pyplot as plt\n",
    "import sys"
   ]
  },
  {
   "cell_type": "code",
   "execution_count": 425,
   "metadata": {},
   "outputs": [],
   "source": [
    "def encode_lable(y, num_classes):\n",
    "    y_gt = np.zeros((len(y), num_classes))\n",
    "    for i in range(0, len(y)):\n",
    "        y_gt[i, y[i]] = 1\n",
    "    return y_gt"
   ]
  },
  {
   "cell_type": "code",
   "execution_count": 426,
   "metadata": {},
   "outputs": [],
   "source": [
    "def h(theta, X):\n",
    "    return 1.0 / (1 + np.exp(-np.dot(X, theta)))"
   ]
  },
  {
   "cell_type": "code",
   "execution_count": 427,
   "metadata": {},
   "outputs": [],
   "source": [
    "def sigm_derivative(theta, X):\n",
    "    return h(theta, X) * (1 - h(theta, X))"
   ]
  },
  {
   "cell_type": "code",
   "execution_count": 428,
   "metadata": {},
   "outputs": [],
   "source": [
    "def loss(y_gt, y_pred):\n",
    "    cross_entropy_error = 0.0\n",
    "    for i in range(0, len(y_gt)):\n",
    "        for j in range(0, len(y_gt[i])):\n",
    "            cross_entropy_error -= (y_gt[i][j] * np.log(y_pred[i][j]) + (1 - y_gt[i][j]) * np.log(1 - y_pred[i][j]))\n",
    "    return cross_entropy_error / len(y_gt)"
   ]
  },
  {
   "cell_type": "code",
   "execution_count": 429,
   "metadata": {},
   "outputs": [],
   "source": [
    "def CEderivative(X, y_gt, y_pred):\n",
    "    return np.dot(y_pred - y_gt, X) / len(y_gt)"
   ]
  },
  {
   "cell_type": "code",
   "execution_count": 431,
   "metadata": {},
   "outputs": [],
   "source": [
    "(dx_train, dy_train), (x_test, y_test) = cifar10.load_data()"
   ]
  },
  {
   "cell_type": "code",
   "execution_count": 432,
   "metadata": {},
   "outputs": [
    {
     "name": "stdout",
     "output_type": "stream",
     "text": [
      "x_train shape: (50000, 32, 32, 3)\n",
      "50000 train samples\n",
      "10000 test samples\n"
     ]
    }
   ],
   "source": [
    "print('x_train shape:', dx_train.shape)\n",
    "print(dx_train.shape[0], 'train samples')\n",
    "print(x_test.shape[0], 'test samples')"
   ]
  },
  {
   "cell_type": "code",
   "execution_count": 433,
   "metadata": {},
   "outputs": [],
   "source": [
    "dy_train = encode_lable(dy_train, 10)\n",
    "y_test = encode_lable(y_test, 10)"
   ]
  },
  {
   "cell_type": "code",
   "execution_count": 434,
   "metadata": {},
   "outputs": [],
   "source": [
    "dx_train = np.asarray([list(x.flat) for x in dx_train])\n",
    "x_test = np.asarray([list(x.flat) for x in x_test])"
   ]
  },
  {
   "cell_type": "code",
   "execution_count": 435,
   "metadata": {},
   "outputs": [
    {
     "name": "stdout",
     "output_type": "stream",
     "text": [
      "x_train shape: (40000, 3072)\n",
      "y_train shape: (40000, 10)\n",
      "x_val shape: (10000, 3072)\n",
      "y_val shape: (10000, 10)\n",
      "x_test shape: (10000, 3072)\n",
      "y_test shape: (10000, 10)\n"
     ]
    }
   ],
   "source": [
    "p = np.random.permutation(dx_train.shape[0])\n",
    "x_train = dx_train[p[0:int(len(dx_train)*0.8)], :]\n",
    "y_train = dy_train[p[0:int(len(dx_train)*0.8)]]\n",
    "x_val = dx_train[p[int(len(dx_train)*0.8):], :]\n",
    "y_val = dy_train[p[int(len(dx_train)*0.8):]]\n",
    "print(\"x_train shape:\", x_train.shape)\n",
    "print(\"y_train shape:\", y_train.shape)\n",
    "print(\"x_val shape:\", x_val.shape)\n",
    "print(\"y_val shape:\", y_val.shape)\n",
    "print(\"x_test shape:\", x_test.shape)\n",
    "print(\"y_test shape:\", y_test.shape)"
   ]
  },
  {
   "cell_type": "code",
   "execution_count": 436,
   "metadata": {},
   "outputs": [],
   "source": [
    "x_train = (x_train - np.mean(x_train, axis = 0)) / np.var(x_train, axis = 0)\n",
    "x_val = (x_val - np.mean(x_val, axis = 0)) / np.var(x_val, axis = 0)\n",
    "x_test = (x_test - np.mean(x_test, axis = 0)) / np.var(x_test, axis = 0)"
   ]
  },
  {
   "cell_type": "code",
   "execution_count": 430,
   "metadata": {},
   "outputs": [],
   "source": [
    "def forward(thetas, X):\n",
    "    num_layers = thetas.shape[0]\n",
    "    outs = []\n",
    "    for t in range(0, num_layers): #проходим по всем слоям (все слои с сигмоидальной функцией активации)\n",
    "        if t == 0:\n",
    "            outs.append(np.array([h(thetas[t][:, i], X) for i in range(0, thetas[t].shape[1])]).T)\n",
    "        else:\n",
    "            outs.append(np.array([h(thetas[t][:, i], np.asarray(outs[t-1])) for i in range(0, thetas[t].shape[1])]).T)\n",
    "    return [out for out in outs]"
   ]
  },
  {
   "cell_type": "code",
   "execution_count": 506,
   "metadata": {},
   "outputs": [],
   "source": [
    "def backward(X, y_gt, thetas):\n",
    "    num_features = X.shape[1]\n",
    "    num_classes = y_gt.shape[1]\n",
    "    outs = forward(thetas, X)\n",
    "    num_layers = len(outs)\n",
    "    d_theta = []\n",
    "    d_theta.append(np.zeros([num_features, outs[0].shape[1]]))\n",
    "    for i in range(0, num_layers - 1):\n",
    "        d_theta.append(np.zeros([outs[i].shape[1], outs[i+1].shape[1]]))\n",
    "    #выходной слой\n",
    "    for class_no in range(0, num_classes):\n",
    "        d_theta[1][:, class_no] = CEderivative(outs[0], y_gt[:, class_no], outs[1][:, class_no])\n",
    "    d3 = outs[1] - y_gt\n",
    "    #скрытый слой\n",
    "    tmp_th2 = np.dot(d3, thetas[1].T)\n",
    "    tmp_th2 = tmp_th2 * sigm_derivative(thetas[0], X)\n",
    "    d_theta[0] = np.dot( X.T, tmp_th2)\n",
    "    #d_theta[0] = np.dot(X.T, np.dot(d3, thetas[1].T)*sigm_derivative(thetas[0], X))\n",
    "    return d_theta"
   ]
  },
  {
   "cell_type": "code",
   "execution_count": 513,
   "metadata": {
    "scrolled": false
   },
   "outputs": [
    {
     "name": "stdout",
     "output_type": "stream",
     "text": [
      "Initial loss : 21.34505127041066\n",
      "\n",
      "\n",
      "Epoch 0/1 ...........\n",
      "Loss train: 2.824025992968512 \n",
      "Loss val: 2.893870122621053 \n",
      "Train accuracy :  0.078175 \n",
      "Validation accuracy :  0.16720000000000002\n"
     ]
    },
    {
     "data": {
      "image/png": "[encoded data removed]",
      "text/plain": [
       "<matplotlib.figure.Figure at 0x2800021eef0>"
      ]
     },
     "metadata": {},
     "output_type": "display_data"
    },
    {
     "data": {
      "image/png": "[encoded data removed]",
      "text/plain": [
       "<matplotlib.figure.Figure at 0x28000043b00>"
      ]
     },
     "metadata": {},
     "output_type": "display_data"
    }
   ],
   "source": [
    "batch_size = 1000\n",
    "num_epochs = 1\n",
    "alpha = 0.5\n",
    "np.random.seed(0)\n",
    "history_loss_train,history_loss_val, history_acc_train, history_acc_val = [],[],[],[]\n",
    "num_train_samples = x_train.shape[0]\n",
    "num_batches = num_train_samples // batch_size\n",
    "layers_size = [3072,64, 10]\n",
    "thetas = np.asarray([np.random.randn(layers_size[i], layers_size[i+1]) for i in range(0, len(layers_size)-1)])\n",
    "y_pred = forward(thetas, x_train)\n",
    "loss_val = loss(y_train, y_pred[-1])\n",
    "print(\"Initial loss :\", loss_val)\n",
    "for i in range(0, num_epochs):\n",
    "    p = np.random.permutation(num_train_samples)\n",
    "    print('\\n\\nEpoch %d/%d ' % (i, num_epochs), end='.')\n",
    "    for batch_no in range(0, num_batches):\n",
    "        if np.mod(batch_no, num_batches // 10) == 0:\n",
    "            print('.', end='')\n",
    "            sys.stdout.flush()\n",
    "        x_train_batch = x_train[p[batch_no * batch_size : (batch_no + 1) * batch_size], :]\n",
    "        y_train_batch = y_train[p[batch_no * batch_size: (batch_no + 1) * batch_size]]\n",
    "        d_theta = backward(x_train_batch, y_train_batch, thetas)\n",
    "        for i in range(0,len(d_theta)):\n",
    "            thetas[i] =thetas[i] - alpha*d_theta[i] \n",
    "    \n",
    "    \n",
    "    #loss train\n",
    "    pred_train_probs = forward(thetas, x_train)\n",
    "    pred_train_labels = np.argmax(pred_train_probs[-1], axis=1)\n",
    "    loss_train = loss(y_train, pred_train_probs[-1])\n",
    "    history_loss_train.append(loss_train)\n",
    "    \n",
    "    #loss val\n",
    "    pred_val_probs = forward(thetas, x_val)\n",
    "    pred_val_labels = np.argmax(pred_val_probs[-1], axis=1)\n",
    "    loss_val = loss(y_val, pred_val_probs[-1])\n",
    "    history_loss_val.append(loss_val)\n",
    "    \n",
    "    #pred_val_probs = forward(thetas, x_val)\n",
    "    #pred_val_labels = np.argmax(pred_train_probs[len(layers_size) - 2], axis=1)\n",
    "    history_acc_train.append((1-np.mean(pred_train_labels != np.argmax(y_train))))\n",
    "    history_acc_val.append((1 - np.mean(pred_val_labels != np.argmax(y_val))))\n",
    "    print(\"\\nLoss train:\", loss_train,\n",
    "          \"\\nLoss val:\", loss_val,\n",
    "          \"\\nTrain accuracy : \", (1-np.mean(pred_train_labels != np.argmax(y_train))),\n",
    "          \"\\nValidation accuracy : \", (1 - np.mean(pred_val_labels != np.argmax(y_val))))\n",
    "    plt.plot(history_loss_train)\n",
    "    plt.plot(history_loss_val)\n",
    "    plt.title('model loss')\n",
    "    plt.ylabel('loss')\n",
    "    plt.xlabel('epoch')\n",
    "    plt.legend(['train', 'val'], loc='upper right')\n",
    "    plt.show()\n",
    "    \n",
    "    plt.plot(history_acc_train)\n",
    "    plt.plot(history_acc_val)\n",
    "    plt.title('model accuracy')\n",
    "    plt.ylabel('accuracy')\n",
    "    plt.xlabel('epoch')\n",
    "    plt.legend(['train', 'val'], loc='upper left')\n",
    "    plt.show()"
   ]
  },
  {
   "cell_type": "code",
   "execution_count": 514,
   "metadata": {},
   "outputs": [
    {
     "data": {
      "image/png": "[encoded data removed]",
      "text/plain": [
       "<matplotlib.figure.Figure at 0x2803aa15470>"
      ]
     },
     "metadata": {},
     "output_type": "display_data"
    },
    {
     "data": {
      "image/png": "[encoded data removed]",
      "text/plain": [
       "<matplotlib.figure.Figure at 0x2814a667dd8>"
      ]
     },
     "metadata": {},
     "output_type": "display_data"
    }
   ],
   "source": [
    "plt.plot(history_loss_train)\n",
    "plt.plot(history_loss_val)\n",
    "plt.title('model loss')\n",
    "plt.ylabel('loss')\n",
    "plt.xlabel('epoch')\n",
    "plt.legend(['train', 'val'], loc='upper right')\n",
    "plt.show()\n",
    "\n",
    "plt.plot(history_acc_train)\n",
    "plt.plot(history_acc_val)\n",
    "plt.title('model accuracy')\n",
    "plt.ylabel('accuracy')\n",
    "plt.xlabel('epoch')\n",
    "plt.legend(['train', 'val'], loc='upper left')\n",
    "plt.show()"
   ]
  },
  {
   "cell_type": "code",
   "execution_count": null,
   "metadata": {},
   "outputs": [],
   "source": []
  }
 ],
 "metadata": {
  "kernelspec": {
   "display_name": "Python 3",
   "language": "python",
   "name": "python3"
  },
  "language_info": {
   "codemirror_mode": {
    "name": "ipython",
    "version": 3
   },
   "file_extension": ".py",
   "mimetype": "text/x-python",
   "name": "python",
   "nbconvert_exporter": "python",
   "pygments_lexer": "ipython3",
   "version": "3.6.4"
  }
 },
 "nbformat": 4,
 "nbformat_minor": 2
}
